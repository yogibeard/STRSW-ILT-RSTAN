{
 "cells": [
  {
   "cell_type": "markdown",
   "metadata": {},
   "source": [
    "# Module 3: SMB Configuration"
   ]
  },
  {
   "cell_type": "markdown",
   "metadata": {},
   "source": [
    "## Exercise 1: Provisioning and Configuring CIFS\n",
    "\n",
    "In this exercise, you use the NetApp ONTAP REST API modules to provision and configure CIFS on your ONTAP based system"
   ]
  },
  {
   "cell_type": "markdown",
   "metadata": {},
   "source": [
    "Objectives  \n",
    "\n",
    "This exercise focuses on enabling you to do the following:\n",
    "- Write a YML file to create a volume by using ONTAP modules and Ansible\n",
    "- Write a YML file to create a qtree on the ONTAP based system by using the REST API and Ansible\n",
    "- Write a YML file to create a CIFS share by using ONTAP modules and Ansible"
   ]
  },
  {
   "cell_type": "markdown",
   "metadata": {},
   "source": [
    "### Task 1: Create Ansible Playbooks to Configure SMB\n",
    "\n",
    "In this task, you create an Ansible playbook to provision all the necessary resources for CIFS\n",
    "configuration on an ONTAP based system"
   ]
  },
  {
   "cell_type": "code",
   "execution_count": null,
   "metadata": {},
   "outputs": [],
   "source": [
    " ssh admin@cluster1 vserver create -vserver nas_svm -language c.utf-8 "
   ]
  },
  {
   "cell_type": "code",
   "execution_count": null,
   "metadata": {},
   "outputs": [],
   "source": [
    " ssh admin@cluster1  network int create -vserver nas_svm -lif data_nas_1 -address 192.168.0.200 -netmask 255.255.255.0  "
   ]
  },
  {
   "cell_type": "code",
   "execution_count": null,
   "metadata": {},
   "outputs": [],
   "source": [
    " ssh admin@cluster1  network int create -vserver nas_svm -lif data_nas_2 -address 192.168.0.201 -netmask 255.255.255.0  "
   ]
  },
  {
   "cell_type": "code",
   "execution_count": null,
   "metadata": {},
   "outputs": [],
   "source": [
    " ssh admin@cluster1  vserver services dns create -domains demo.netapp.com -name-servers 192.168.0.253"
   ]
  },
  {
   "cell_type": "code",
   "execution_count": null,
   "metadata": {},
   "outputs": [],
   "source": [
    " ssh admin@cluster1  vserver cifs create -vserver nas_svm -domain demo.netapp.com -cifs-server cifs-server"
   ]
  },
  {
   "cell_type": "markdown",
   "metadata": {},
   "source": [
    "create a volume, a qtree, and a CIFS share"
   ]
  },
  {
   "cell_type": "code",
   "execution_count": null,
   "metadata": {},
   "outputs": [],
   "source": []
  }
 ],
 "metadata": {
  "kernelspec": {
   "display_name": ".venv",
   "language": "python",
   "name": "python3"
  },
  "language_info": {
   "codemirror_mode": {
    "name": "ipython",
    "version": 3
   },
   "file_extension": ".py",
   "mimetype": "text/x-python",
   "name": "python",
   "nbconvert_exporter": "python",
   "pygments_lexer": "ipython3",
   "version": "3.6.8"
  }
 },
 "nbformat": 4,
 "nbformat_minor": 2
}
